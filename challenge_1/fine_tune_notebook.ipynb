{
 "cells": [
  {
   "cell_type": "code",
   "execution_count": null,
   "metadata": {
    "id": "oJ_40PxzbOiF"
   },
   "outputs": [],
   "source": [
    "# ! cp drive/MyDrive/Challenge1.zip ./"
   ]
  },
  {
   "cell_type": "code",
   "execution_count": null,
   "metadata": {
    "id": "1Mvn9qP0lRS2"
   },
   "outputs": [],
   "source": [
    "# ! mkdir -p Challenge1\n",
    "# ! mv Challenge1.zip Challenge1"
   ]
  },
  {
   "cell_type": "code",
   "execution_count": null,
   "metadata": {
    "colab": {
     "base_uri": "https://localhost:8080/"
    },
    "id": "1hcKaFpqlqQJ",
    "outputId": "4b891f8a-4f72-4b5d-a589-280a2a061efe"
   },
   "outputs": [],
   "source": [
    "# ! cd Challenge1 && unzip Challenge1.zip"
   ]
  },
  {
   "cell_type": "code",
   "execution_count": null,
   "metadata": {
    "colab": {
     "base_uri": "https://localhost:8080/"
    },
    "id": "la3EjQM1Dgrj",
    "outputId": "933f03d9-9f01-4f73-d8b9-8e8a987605a1"
   },
   "outputs": [],
   "source": [
    "# ! ls ./Challenge1/coin-dataset/ | grep ^_anno"
   ]
  },
  {
   "cell_type": "code",
   "execution_count": null,
   "metadata": {
    "colab": {
     "base_uri": "https://localhost:8080/"
    },
    "id": "ut5Ma2i6vz-p",
    "outputId": "fe4dce9a-64ed-4f03-8a06-9a75be27f272"
   },
   "outputs": [],
   "source": [
    "import os\n",
    "import torch\n",
    "import numpy as np\n",
    "import random\n",
    "from torch.utils.data import DataLoader, Subset\n",
    "from torchvision.models.detection import maskrcnn_resnet50_fpn_v2, MaskRCNN_ResNet50_FPN_V2_Weights\n",
    "from torchvision.models.detection.faster_rcnn import FastRCNNPredictor\n",
    "from torchvision.models.detection.mask_rcnn import MaskRCNNPredictor\n",
    "from torchvision.transforms import functional as F\n",
    "from pycocotools.coco import COCO\n",
    "from PIL import Image\n",
    "\n",
    "# -------- Custom COCO Dataset --------\n",
    "class COCODataset(torch.utils.data.Dataset):\n",
    "    def __init__(self, img_dir, ann_path, transforms=None):\n",
    "        self.coco = COCO(ann_path)\n",
    "        self.img_dir = img_dir\n",
    "        self.ids = list(sorted(self.coco.imgs.keys()))\n",
    "        self.transforms = transforms\n",
    "\n",
    "    def __getitem__(self, index):\n",
    "        img_id = self.ids[index]\n",
    "        ann_ids = self.coco.getAnnIds(imgIds=img_id)\n",
    "        anns = self.coco.loadAnns(ann_ids)\n",
    "        path = self.coco.loadImgs(img_id)[0]['file_name']\n",
    "\n",
    "        img = Image.open(os.path.join(self.img_dir, path)).convert('RGB')\n",
    "\n",
    "        boxes = []\n",
    "        labels = []\n",
    "        masks = []\n",
    "\n",
    "        for ann in anns:\n",
    "            x, y, w, h = ann['bbox']\n",
    "            boxes.append([x, y, x + w, y + h])\n",
    "            labels.append(ann['category_id'])\n",
    "\n",
    "            if 'segmentation' in ann and ann['segmentation']:\n",
    "                mask = self.coco.annToMask(ann)\n",
    "            else:\n",
    "                mask = np.zeros((img.height, img.width), dtype=np.uint8)\n",
    "            masks.append(mask)\n",
    "\n",
    "        boxes = torch.as_tensor(boxes, dtype=torch.float32)\n",
    "        labels = torch.as_tensor(labels, dtype=torch.int64)\n",
    "        masks = torch.as_tensor(np.array(masks), dtype=torch.uint8)\n",
    "\n",
    "        target = {\n",
    "            'boxes': boxes,\n",
    "            'labels': labels,\n",
    "            'masks': masks,\n",
    "            'image_id': torch.tensor([img_id])\n",
    "        }\n",
    "\n",
    "        if self.transforms:\n",
    "            img = self.transforms(img)\n",
    "\n",
    "        return img, target\n",
    "\n",
    "    def __len__(self):\n",
    "        return len(self.ids)\n",
    "\n",
    "# -------- Split dataset into train and val --------\n",
    "def split_dataset(dataset, split_ratio=0.7):\n",
    "    indices = list(range(len(dataset)))\n",
    "    random.shuffle(indices)\n",
    "    split = int(split_ratio * len(dataset))\n",
    "    return Subset(dataset, indices[:split]), Subset(dataset, indices[split:])\n",
    "\n",
    "def collate_fn(batch):\n",
    "    return tuple(zip(*batch))\n",
    "\n",
    "# -------- Training Function --------\n",
    "def train():\n",
    "    device = torch.device('cuda' if torch.cuda.is_available() else 'cpu')\n",
    "    print(f\"Training on device: {device}\")\n",
    "\n",
    "    img_dir = '/content/Challenge1/coin-dataset'                  # Folder with images\n",
    "    ann_path = '/content/Challenge1/coin-dataset/_annotations.coco.json' # COCO json annotation file\n",
    "\n",
    "    # Dataset and DataLoader\n",
    "    full_dataset = COCODataset(img_dir, ann_path, transforms=F.to_tensor)\n",
    "    train_dataset, val_dataset = split_dataset(full_dataset)\n",
    "\n",
    "    train_loader = DataLoader(train_dataset, batch_size=2, shuffle=True, collate_fn=collate_fn)\n",
    "    val_loader = DataLoader(val_dataset, batch_size=1, shuffle=False, collate_fn=collate_fn)\n",
    "\n",
    "    # -------- Load Pretrained Model --------\n",
    "    weights = MaskRCNN_ResNet50_FPN_V2_Weights.COCO_V1\n",
    "    model = maskrcnn_resnet50_fpn_v2(weights=weights)\n",
    "\n",
    "    # -------- Update Number of Classes --------\n",
    "    num_classes = len(full_dataset.coco.getCatIds()) + 1  # +1 for background\n",
    "\n",
    "    # Replace box predictor head\n",
    "    in_features = model.roi_heads.box_predictor.cls_score.in_features\n",
    "    model.roi_heads.box_predictor = FastRCNNPredictor(in_features, num_classes)\n",
    "\n",
    "    # Replace mask predictor head\n",
    "    in_features_mask = model.roi_heads.mask_predictor.conv5_mask.in_channels\n",
    "    hidden_layer = 256\n",
    "    model.roi_heads.mask_predictor = MaskRCNNPredictor(in_features_mask, hidden_layer, num_classes)\n",
    "\n",
    "    model.to(device)\n",
    "\n",
    "    # -------- Optimizer and LR Scheduler --------\n",
    "    params = [p for p in model.parameters() if p.requires_grad]\n",
    "    optimizer = torch.optim.SGD(params, lr=0.005, momentum=0.9, weight_decay=0.0005)\n",
    "    lr_scheduler = torch.optim.lr_scheduler.StepLR(optimizer, step_size=3, gamma=0.1)\n",
    "\n",
    "    num_epochs = 20\n",
    "\n",
    "    for epoch in range(num_epochs):\n",
    "        model.train()\n",
    "        total_loss = 0\n",
    "\n",
    "        for images, targets in train_loader:\n",
    "            images = [img.to(device) for img in images]\n",
    "            targets = [{k: v.to(device) for k, v in t.items()} for t in targets]\n",
    "\n",
    "            loss_dict = model(images, targets)\n",
    "            losses = sum(loss for loss in loss_dict.values())\n",
    "\n",
    "            optimizer.zero_grad()\n",
    "            losses.backward()\n",
    "            optimizer.step()\n",
    "\n",
    "            total_loss += losses.item()\n",
    "\n",
    "        print(f'Epoch [{epoch+1}/{num_epochs}] - Loss: {total_loss:.4f}')\n",
    "        lr_scheduler.step()\n",
    "\n",
    "torch.save(model.state_dict(), \"maskrcnn_finetuned_v2.pth\")\n",
    "print(\"Training complete. Model saved as maskrcnn_finetuned_v2.pth\")\n",
    "\n",
    "train()\n"
   ]
  }
 ],
 "metadata": {
  "accelerator": "GPU",
  "colab": {
   "gpuType": "T4",
   "provenance": []
  },
  "kernelspec": {
   "display_name": "Python 3 (ipykernel)",
   "language": "python",
   "name": "python3"
  },
  "language_info": {
   "codemirror_mode": {
    "name": "ipython",
    "version": 3
   },
   "file_extension": ".py",
   "mimetype": "text/x-python",
   "name": "python",
   "nbconvert_exporter": "python",
   "pygments_lexer": "ipython3",
   "version": "3.10.18"
  }
 },
 "nbformat": 4,
 "nbformat_minor": 4
}
